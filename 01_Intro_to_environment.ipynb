{
 "cells": [
  {
   "cell_type": "markdown",
   "metadata": {
    "colab_type": "text",
    "id": "view-in-github"
   },
   "source": [
    "<a href=\"https://colab.research.google.com/github/YanickSchraner/rl-on-trains-workshop/blob/main/01_Intro_to_environment.ipynb\" target=\"_parent\"><img src=\"https://colab.research.google.com/assets/colab-badge.svg\" alt=\"Open In Colab\"/></a>"
   ]
  },
  {
   "cell_type": "markdown",
   "metadata": {
    "id": "htEgy_0rsAJE"
   },
   "source": [
    "# Flatland\n",
    "Docs at: http://flatland-rl-docs.s3-website.eu-central-1.amazonaws.com/\n"
   ]
  },
  {
   "cell_type": "markdown",
   "metadata": {
    "id": "PNiahuRZvMBi"
   },
   "source": [
    "## File structure\n",
    "\n",
    "\n",
    "```\n",
    "├── Notebooks, Readme, packages ..\n",
    "├── agents: RL agents implementation\n",
    "│   ├── curiosity.py\n",
    "│   ├── dqn.py\n",
    "│   ├── qlearning.py\n",
    "│   └── random.py\n",
    "├── helpers: Helpers to train, test, inspect agents\n",
    "│   └── rl_helpers.py\n",
    "└── videos: Save videos of your best agents here!\n",
    "    └── video.mp4\n",
    "```\n",
    "\n"
   ]
  },
  {
   "cell_type": "markdown",
   "metadata": {},
   "source": [
    "## Imports\n",
    "First we need to import all libraries and clone external helper code"
   ]
  },
  {
   "cell_type": "code",
   "execution_count": 1,
   "metadata": {
    "colab": {
     "base_uri": "https://localhost:8080/",
     "height": 307
    },
    "id": "_8g943chw4DC",
    "outputId": "d4df5d38-9f09-41ae-e0d7-74764e3790a3"
   },
   "outputs": [],
   "source": [
    "#@title << Setup Google Colab by running this cell {display-mode: \"form\"}\n",
    "import sys\n",
    "if 'google.colab' in sys.modules:\n",
    "    # Clone GitHub repository\n",
    "    !git clone --single-branch --branch evaluation_setup https://github.com/YanickSchraner/rl-on-trains-workshop\n",
    "        \n",
    "    # Copy files required to run the code\n",
    "    !cp -r \"rl-workshop/agents\" \"rl-workshop/rl_helpers\" .\n",
    "    \n",
    "    # Install packages via pip\n",
    "    !pip install -r \"rl-workshop/requirements.txt\"\n",
    "    \n",
    "    # Restart Runtime\n",
    "    import os\n",
    "    os.kill(os.getpid(), 9)"
   ]
  },
  {
   "cell_type": "code",
   "execution_count": 2,
   "metadata": {
    "id": "NDRIB0ua04NV"
   },
   "outputs": [],
   "source": [
    "%run utils/fast_tree_obs.py\n",
    "\n",
    "# Import libraries\n",
    "import ipycanvas\n",
    "from IPython import display\n",
    "\n",
    "import time\n",
    "\n",
    "import numpy as np\n",
    "\n",
    "# In Flatland you can use custom observation builders and predicitors\n",
    "# Observation builders generate the observation needed by the controller\n",
    "# Preditctors can be used to do short time prediction which can help in avoiding conflicts in the network\n",
    "\n",
    "# First of all we import the Flatland rail environment\n",
    "from flatland.envs.rail_env import RailEnv\n",
    "from flatland.envs.rail_generators import sparse_rail_generator\n",
    "from flatland.envs.observations import TreeObsForRailEnv, GlobalObsForRailEnv\n",
    "from flatland.envs.schedule_generators import sparse_schedule_generator\n",
    "from flatland.envs.malfunction_generators import malfunction_from_params, MalfunctionParameters, ParamMalfunctionGen\n",
    "\n",
    "# We also include a renderer because we want to visualize what is going on in the environment\n",
    "from flatland.utils.rendertools import RenderTool"
   ]
  },
  {
   "cell_type": "code",
   "execution_count": 3,
   "metadata": {
    "pycharm": {
     "name": "#%%\n"
    }
   },
   "outputs": [],
   "source": [
    "%%capture\n",
    "%matplotlib inline\n",
    "\n",
    "# Helper function to visualize an episode\n",
    "\n",
    "import matplotlib.pyplot as plt\n",
    "import matplotlib.animation\n",
    "import matplotlib.image as mpimg\n",
    "plt.rcParams[\"animation.html\"] = \"jshtml\"\n",
    "\n",
    "def display_episode(frames):\n",
    "    fig, ax = plt.subplots(figsize=(12,12))\n",
    "    imgplot = plt.imshow(frames[0])\n",
    "    def animate(i):\n",
    "        imgplot.set_data(frames[i])\n",
    "    animation = matplotlib.animation.FuncAnimation(fig, animate, frames=len(frames))\n",
    "    return animation"
   ]
  },
  {
   "cell_type": "markdown",
   "metadata": {},
   "source": [
    "## Presentation of the RL environment\n",
    "\n",
    "In the next cells we specify the characteristics of our flatland grid and the trains.\n",
    "We use the `FastTreeObs` observation for all of our agents.\n",
    "\n",
    "Training on simple small tasks is the best way to get familiar with the environment.\n",
    "We started by importing the necessary rail and schedule generators.\n",
    "The rail generator will generate the railway infrastructure.\n",
    "The schedule generator will assign tasks to all the agent within the railway network.\n",
    "\n",
    "The railway infrastructure can be build using any of the provided generators in env/rail_generators.py\n",
    "Here we use the sparse_rail_generator with the following parameters:\n",
    "\n"
   ]
  },
  {
   "cell_type": "code",
   "execution_count": 4,
   "metadata": {
    "id": "UlcHBfdR09JI"
   },
   "outputs": [],
   "source": [
    "n_agents = 5 # Number of trains that have an assigned task in the env\n",
    "# Characteristics of the flatland grid:\n",
    "x_dim = 300 # With of map\n",
    "y_dim = 300 # Height of map\n",
    "n_cities = 10 # Number of cities where agents can start or end\n",
    "max_rails_between_cities = 2 # Max number of tracks allowed between cities. This is number of entry point to a city\n",
    "max_rails_in_city = 8 # Max number of parallel tracks within a city, representing a realistic trainstation\n",
    "\n",
    "seed = 42 # Random seed\n",
    "\n",
    "# Custom observation builder\n",
    "tree_observation = FastTreeObs(max_depth=2)"
   ]
  },
  {
   "cell_type": "markdown",
   "metadata": {},
   "source": [
    "The schedule generator can make very basic schedules with a start point, end point and a speed profile for each agent.\n",
    "The speed profiles can be adjusted directly as well as shown later on. We start by introducing a statistical distribution of speed profiles"
   ]
  },
  {
   "cell_type": "code",
   "execution_count": 5,
   "metadata": {},
   "outputs": [],
   "source": [
    "# Different agent types (trains) with different speeds.\n",
    "speed_ration_map = {1.: 0.25,  # Fast passenger train\n",
    "                    1. / 2.: 0.25,  # Fast freight train\n",
    "                    1. / 3.: 0.25,  # Slow commuter train\n",
    "                    1. / 4.: 0.25}  # Slow freight train\n",
    "\n",
    "# We can now initiate the schedule generator with the given speed profiles\n",
    "schedule_generator = sparse_schedule_generator(speed_ration_map)"
   ]
  },
  {
   "cell_type": "code",
   "execution_count": 6,
   "metadata": {},
   "outputs": [],
   "source": [
    "# We can furthermore pass stochastic data to the RailEnv constructor which will allow for stochastic malfunctions\n",
    "# during an episode.\n",
    "\n",
    "stochastic_data = MalfunctionParameters(malfunction_rate=1/10000,  # Rate of malfunction occurence\n",
    "                                        min_duration=15,  # Minimal duration of malfunction\n",
    "                                        max_duration=50  # Max duration of malfunction\n",
    "                                        )\n",
    "\n"
   ]
  },
  {
   "cell_type": "markdown",
   "metadata": {},
   "source": [
    "Construct the enviornment with the given observation, generataors, predictors, and stochastic data\n",
    "After creating the environment, we need to call `reset()` to initialize it."
   ]
  },
  {
   "cell_type": "code",
   "execution_count": 7,
   "metadata": {},
   "outputs": [],
   "source": [
    "env = RailEnv(width=x_dim,\n",
    "              height=y_dim,\n",
    "              rail_generator=sparse_rail_generator(max_num_cities=n_cities,# Number of cities in map (where train stations are)\n",
    "                                                   seed=seed,  # Random seed\n",
    "                                                   grid_mode=False,\n",
    "                                                   max_rails_between_cities=max_rails_between_cities,\n",
    "                                                   max_rails_in_city=max_rails_in_city,\n",
    "                                                   ),\n",
    "              schedule_generator=schedule_generator,\n",
    "              number_of_agents=n_agents,\n",
    "              malfunction_generator=ParamMalfunctionGen(stochastic_data),\n",
    "              obs_builder_object=tree_observation,\n",
    "              remove_agents_at_target=True,\n",
    "              record_steps=True\n",
    "              )\n",
    "\n",
    "obs = env.reset()"
   ]
  },
  {
   "cell_type": "markdown",
   "metadata": {},
   "source": [
    "The `RenderTool` allows us to visualize the environment."
   ]
  },
  {
   "cell_type": "code",
   "execution_count": 8,
   "metadata": {
    "id": "5A6tz6vr1Un1"
   },
   "outputs": [],
   "source": [
    "env_renderer = RenderTool(env, gl=\"PGL\", screen_width=500, screen_height=500, show_debug=False)"
   ]
  },
  {
   "cell_type": "markdown",
   "metadata": {},
   "source": [
    "We first look at the map we have created"
   ]
  },
  {
   "cell_type": "code",
   "execution_count": 9,
   "metadata": {},
   "outputs": [
    {
     "name": "stdout",
     "output_type": "stream",
     "text": [
      "open_window - pyglet\n"
     ]
    }
   ],
   "source": [
    "env_renderer.render_env(show=True)"
   ]
  },
  {
   "cell_type": "markdown",
   "metadata": {},
   "source": [
    "As an initial example we create a random agent"
   ]
  },
  {
   "cell_type": "code",
   "execution_count": 10,
   "metadata": {},
   "outputs": [],
   "source": [
    "# Now we can take 500 random steps in our environment and then visualize how the train moved in this episode.\n",
    "class RandomAgent:\n",
    "\n",
    "    def __init__(self, state_size, action_size):\n",
    "        self.state_size = state_size\n",
    "        self.action_size = action_size\n",
    "\n",
    "    def act(self, state):\n",
    "        \"\"\"\n",
    "        :param state: input is the observation of the agent\n",
    "        :return: returns an action\n",
    "        \"\"\"\n",
    "        return np.random.choice([RailEnvActions.MOVE_FORWARD, RailEnvActions.MOVE_RIGHT, RailEnvActions.MOVE_LEFT,\n",
    "                                 RailEnvActions.STOP_MOVING])\n",
    "\n",
    "    def step(self, memories):\n",
    "        \"\"\"\n",
    "        Step function to improve agent by adjusting policy given the observations\n",
    "\n",
    "        :param memories: SARS Tuple to be\n",
    "        :return:\n",
    "        \"\"\"\n",
    "        return\n",
    "\n",
    "    def save(self, filename):\n",
    "        # Store the current policy\n",
    "        return\n",
    "\n",
    "    def load(self, filename):\n",
    "        # Load a policy\n",
    "        return\n"
   ]
  },
  {
   "cell_type": "markdown",
   "metadata": {},
   "source": [
    "Initialize the agent with the parameters corresponding to the environment and observation_builder"
   ]
  },
  {
   "cell_type": "code",
   "execution_count": 11,
   "metadata": {},
   "outputs": [],
   "source": [
    "controller = RandomAgent(218, env.action_space[0])"
   ]
  },
  {
   "cell_type": "markdown",
   "metadata": {},
   "source": [
    "We start by looking at the information of each agent.\n",
    "We can see the task assigned to the agent by looking at:"
   ]
  },
  {
   "cell_type": "code",
   "execution_count": 12,
   "metadata": {},
   "outputs": [
    {
     "name": "stdout",
     "output_type": "stream",
     "text": [
      "\n",
      " Agents in the environment have to solve the following tasks: \n",
      "\n",
      "The agent with index 0 has the task to go from its initial position (222, 270), facing in the direction 2 to its target at (204, 210).\n",
      "The agent with index 1 has the task to go from its initial position (222, 268), facing in the direction 0 to its target at (51, 84).\n",
      "The agent with index 2 has the task to go from its initial position (51, 83), facing in the direction 0 to its target at (218, 192).\n",
      "The agent with index 3 has the task to go from its initial position (181, 149), facing in the direction 1 to its target at (83, 252).\n",
      "The agent with index 4 has the task to go from its initial position (153, 253), facing in the direction 0 to its target at (88, 213).\n"
     ]
    }
   ],
   "source": [
    "print(\"\\n Agents in the environment have to solve the following tasks: \\n\")\n",
    "for agent_idx, agent in enumerate(env.agents):\n",
    "    print(\n",
    "        \"The agent with index {} has the task to go from its initial position {}, facing in the direction {} to its target at {}.\".format(\n",
    "            agent_idx, agent.initial_position, agent.direction, agent.target))"
   ]
  },
  {
   "cell_type": "markdown",
   "metadata": {},
   "source": [
    "The agent will always have a status indicating if it is currently present in the environment or done or active.\n",
    "For example we see that agent with index 0 is currently not active"
   ]
  },
  {
   "cell_type": "code",
   "execution_count": 13,
   "metadata": {},
   "outputs": [
    {
     "name": "stdout",
     "output_type": "stream",
     "text": [
      "\n",
      " Their current statuses are:\n",
      "============================\n",
      "Agent 0 status is: RailAgentStatus.READY_TO_DEPART with its current position being None\n",
      "Agent 1 status is: RailAgentStatus.READY_TO_DEPART with its current position being None\n",
      "Agent 2 status is: RailAgentStatus.READY_TO_DEPART with its current position being None\n",
      "Agent 3 status is: RailAgentStatus.READY_TO_DEPART with its current position being None\n",
      "Agent 4 status is: RailAgentStatus.READY_TO_DEPART with its current position being None\n"
     ]
    }
   ],
   "source": [
    "print(\"\\n Their current statuses are:\")\n",
    "print(\"============================\")\n",
    "\n",
    "for agent_idx, agent in enumerate(env.agents):\n",
    "    print(\"Agent {} status is: {} with its current position being {}\".format(agent_idx, str(agent.status),\n",
    "                                                                             str(agent.position)))"
   ]
  },
  {
   "cell_type": "markdown",
   "metadata": {},
   "source": [
    "The agent needs to take any action [1,2,3] except do_nothing or stop to enter the level.\n",
    "\n",
    "If the starting cell is free they will enter the level.\n",
    "If multiple agents want to enter the same cell at the same time the lower index agent will enter first.\n",
    "\n",
    "Let's check if there are any agents with the same start location:"
   ]
  },
  {
   "cell_type": "code",
   "execution_count": 14,
   "metadata": {},
   "outputs": [
    {
     "name": "stdout",
     "output_type": "stream",
     "text": [
      "\n",
      " The following agents have the same initial position:\n",
      "=====================================================\n"
     ]
    }
   ],
   "source": [
    "agents_with_same_start = set()\n",
    "print(\"\\n The following agents have the same initial position:\")\n",
    "print(\"=====================================================\")\n",
    "for agent_idx, agent in enumerate(env.agents):\n",
    "    for agent_2_idx, agent2 in enumerate(env.agents):\n",
    "        if agent_idx != agent_2_idx and agent.initial_position == agent2.initial_position:\n",
    "            print(\"Agent {} as the same initial position as agent {}\".format(agent_idx, agent_2_idx))\n",
    "            agents_with_same_start.add(agent_idx)\n"
   ]
  },
  {
   "cell_type": "markdown",
   "metadata": {},
   "source": [
    "Let's try to enter with all of these agents at the same time"
   ]
  },
  {
   "cell_type": "code",
   "execution_count": 15,
   "metadata": {},
   "outputs": [
    {
     "data": {
      "text/plain": "({0: array([0., 1., 0., 0., 1., 0., 0., 0., 0., 0., 0., 1., 0., 0., 0., 0., 0.,\n         0., 0., 0., 0., 0., 0., 0., 0., 0.]),\n  1: array([0., 1., 0., 0., 1., 0., 0., 0., 0., 0., 0., 1., 0., 0., 0., 0., 0.,\n         0., 0., 0., 0., 0., 0., 0., 0., 0.]),\n  2: array([0., 1., 0., 0., 1., 0., 0., 0., 0., 0., 0., 1., 0., 0., 0., 0., 0.,\n         0., 0., 0., 0., 0., 0., 0., 0., 0.]),\n  3: array([0., 1., 0., 0., 1., 0., 0., 0., 0., 0., 0., 1., 0., 0., 0., 0., 0.,\n         0., 0., 0., 0., 0., 0., 0., 0., 0.]),\n  4: array([0., 1., 0., 0., 1., 0., 0., 0., 0., 0., 0., 1., 0., 0., 0., 0., 0.,\n         0., 0., 0., 0., 0., 0., 0., 0., 0.])},\n {0: -0.3333333333333333,\n  1: -0.3333333333333333,\n  2: -0.3333333333333333,\n  3: -0.5,\n  4: -0.25},\n {0: False, 1: False, 2: False, 3: False, 4: False, '__all__': False},\n {'action_required': {0: True, 1: True, 2: True, 3: True, 4: True},\n  'malfunction': {0: 0, 1: 0, 2: 0, 3: 0, 4: 0},\n  'speed': {0: 0.3333333333333333,\n   1: 0.3333333333333333,\n   2: 0.3333333333333333,\n   3: 0.5,\n   4: 0.25},\n  'status': {0: <RailAgentStatus.READY_TO_DEPART: 0>,\n   1: <RailAgentStatus.READY_TO_DEPART: 0>,\n   2: <RailAgentStatus.READY_TO_DEPART: 0>,\n   3: <RailAgentStatus.READY_TO_DEPART: 0>,\n   4: <RailAgentStatus.READY_TO_DEPART: 0>}})"
     },
     "execution_count": 15,
     "metadata": {},
     "output_type": "execute_result"
    }
   ],
   "source": [
    "action_dict = dict()\n",
    "\n",
    "for agent_id in agents_with_same_start:\n",
    "    action_dict[agent_id] = 1  # Try to move with the agents\n",
    "\n",
    "# Do a step in the environment to see what agents entered:\n",
    "env.step(action_dict)"
   ]
  },
  {
   "cell_type": "markdown",
   "metadata": {},
   "source": [
    "Current state and position of the agents after all agents with same start position tried to move"
   ]
  },
  {
   "cell_type": "code",
   "execution_count": 16,
   "metadata": {},
   "outputs": [
    {
     "name": "stdout",
     "output_type": "stream",
     "text": [
      "\n",
      " This happened when all tried to enter at the same time:\n",
      "========================================================\n"
     ]
    }
   ],
   "source": [
    "print(\"\\n This happened when all tried to enter at the same time:\")\n",
    "print(\"========================================================\")\n",
    "for agent_id in agents_with_same_start:\n",
    "    print(\n",
    "        \"Agent {} status is: {} with the current position being {}.\".format(\n",
    "            agent_id, str(env.agents[agent_id].status),\n",
    "            str(env.agents[agent_id].position)))\n"
   ]
  },
  {
   "cell_type": "markdown",
   "metadata": {},
   "source": [
    "As you see only the agents with lower indexes moved. \n",
    "As soon as the cell is free again the agents can attempt to start again.\n",
    "\n",
    "You will also notice, that the agents move at different speeds once they are on the rail.\n",
    "The agents will always move at full speed when moving, never a speed inbetween.\n",
    "The fastest an agent can go is 1, meaning that it moves to the next cell at every time step.\n",
    "\n",
    "All slower speeds indicate the fraction of a cell that is moved at each time step.\n",
    "Lets look at the current speed data of the agents:"
   ]
  },
  {
   "cell_type": "code",
   "execution_count": 17,
   "metadata": {},
   "outputs": [
    {
     "name": "stdout",
     "output_type": "stream",
     "text": [
      "\n",
      " The speed information of the agents are:\n",
      "=========================================\n",
      "Agent 0 speed is: 0.33 with the current fractional position being 0.0\n",
      "Agent 1 speed is: 0.33 with the current fractional position being 0.0\n",
      "Agent 2 speed is: 0.33 with the current fractional position being 0.0\n",
      "Agent 3 speed is: 0.50 with the current fractional position being 0.0\n",
      "Agent 4 speed is: 0.25 with the current fractional position being 0.0\n"
     ]
    }
   ],
   "source": [
    "print(\"\\n The speed information of the agents are:\")\n",
    "print(\"=========================================\")\n",
    "\n",
    "for agent_idx, agent in enumerate(env.agents):\n",
    "    print(\n",
    "        \"Agent {} speed is: {:.2f} with the current fractional position being {}\".format(\n",
    "            agent_idx, agent.speed_data['speed'], agent.speed_data['position_fraction']))\n"
   ]
  },
  {
   "cell_type": "markdown",
   "metadata": {},
   "source": [
    "New the agents can also have stochastic malfunctions happening which will lead to them being unable to move for a certain amount of time steps.\n",
    "The malfunction data of the agents can easily be accessed as follows"
   ]
  },
  {
   "cell_type": "code",
   "execution_count": 18,
   "metadata": {},
   "outputs": [
    {
     "name": "stdout",
     "output_type": "stream",
     "text": [
      "\n",
      " The malfunction data of the agents are:\n",
      "========================================\n",
      "Agent 0 is OK = True\n",
      "Agent 1 is OK = True\n",
      "Agent 2 is OK = True\n",
      "Agent 3 is OK = True\n",
      "Agent 4 is OK = True\n"
     ]
    }
   ],
   "source": [
    "print(\"\\n The malfunction data of the agents are:\")\n",
    "print(\"========================================\")\n",
    "\n",
    "for agent_idx, agent in enumerate(env.agents):\n",
    "    print(\n",
    "        \"Agent {} is OK = {}\".format(\n",
    "            agent_idx, agent.malfunction_data['malfunction'] < 1))\n"
   ]
  },
  {
   "cell_type": "markdown",
   "metadata": {},
   "source": [
    "Now that you have seen these novel concepts that were introduced you will realize that agents don't need to take\n",
    "an action at every time step as it will only change the outcome when actions are chosen at cell entry.\n",
    "\n",
    "Therefore the environment provides information about what agents need to provide an action in the next step.\n",
    "\n",
    "You can access this in the following way:"
   ]
  },
  {
   "cell_type": "code",
   "execution_count": 19,
   "metadata": {},
   "outputs": [
    {
     "ename": "NameError",
     "evalue": "name 'RailEnvActions' is not defined",
     "output_type": "error",
     "traceback": [
      "\u001B[0;31m---------------------------------------------------------------------------\u001B[0m",
      "\u001B[0;31mNameError\u001B[0m                                 Traceback (most recent call last)",
      "\u001B[0;32m<ipython-input-19-08697b293a53>\u001B[0m in \u001B[0;36m<module>\u001B[0;34m\u001B[0m\n\u001B[1;32m      1\u001B[0m \u001B[0;31m# Chose an action for each agent\u001B[0m\u001B[0;34m\u001B[0m\u001B[0;34m\u001B[0m\u001B[0;34m\u001B[0m\u001B[0m\n\u001B[1;32m      2\u001B[0m \u001B[0;32mfor\u001B[0m \u001B[0ma\u001B[0m \u001B[0;32min\u001B[0m \u001B[0mrange\u001B[0m\u001B[0;34m(\u001B[0m\u001B[0menv\u001B[0m\u001B[0;34m.\u001B[0m\u001B[0mget_num_agents\u001B[0m\u001B[0;34m(\u001B[0m\u001B[0;34m)\u001B[0m\u001B[0;34m)\u001B[0m\u001B[0;34m:\u001B[0m\u001B[0;34m\u001B[0m\u001B[0;34m\u001B[0m\u001B[0m\n\u001B[0;32m----> 3\u001B[0;31m     \u001B[0maction\u001B[0m \u001B[0;34m=\u001B[0m \u001B[0mcontroller\u001B[0m\u001B[0;34m.\u001B[0m\u001B[0mact\u001B[0m\u001B[0;34m(\u001B[0m\u001B[0;36m0\u001B[0m\u001B[0;34m)\u001B[0m\u001B[0;34m\u001B[0m\u001B[0;34m\u001B[0m\u001B[0m\n\u001B[0m\u001B[1;32m      4\u001B[0m     \u001B[0maction_dict\u001B[0m\u001B[0;34m.\u001B[0m\u001B[0mupdate\u001B[0m\u001B[0;34m(\u001B[0m\u001B[0;34m{\u001B[0m\u001B[0ma\u001B[0m\u001B[0;34m:\u001B[0m \u001B[0maction\u001B[0m\u001B[0;34m}\u001B[0m\u001B[0;34m)\u001B[0m\u001B[0;34m\u001B[0m\u001B[0;34m\u001B[0m\u001B[0m\n\u001B[1;32m      5\u001B[0m \u001B[0;31m# Do the environment step\u001B[0m\u001B[0;34m\u001B[0m\u001B[0;34m\u001B[0m\u001B[0;34m\u001B[0m\u001B[0m\n",
      "\u001B[0;32m<ipython-input-10-298341a5830f>\u001B[0m in \u001B[0;36mact\u001B[0;34m(self, state)\u001B[0m\n\u001B[1;32m     11\u001B[0m         \u001B[0;34m:\u001B[0m\u001B[0;32mreturn\u001B[0m\u001B[0;34m:\u001B[0m \u001B[0mreturns\u001B[0m \u001B[0man\u001B[0m \u001B[0maction\u001B[0m\u001B[0;34m\u001B[0m\u001B[0;34m\u001B[0m\u001B[0m\n\u001B[1;32m     12\u001B[0m         \"\"\"\n\u001B[0;32m---> 13\u001B[0;31m         return np.random.choice([RailEnvActions.MOVE_FORWARD, RailEnvActions.MOVE_RIGHT, RailEnvActions.MOVE_LEFT,\n\u001B[0m\u001B[1;32m     14\u001B[0m                                  RailEnvActions.STOP_MOVING])\n\u001B[1;32m     15\u001B[0m \u001B[0;34m\u001B[0m\u001B[0m\n",
      "\u001B[0;31mNameError\u001B[0m: name 'RailEnvActions' is not defined"
     ]
    }
   ],
   "source": [
    "# Chose an action for each agent\n",
    "for a in range(env.get_num_agents()):\n",
    "    action = controller.act(0)\n",
    "    action_dict.update({a: action})\n",
    "# Do the environment step\n",
    "observations, rewards, dones, information = env.step(action_dict)\n",
    "print(\"\\n The following agents can register an action:\")\n",
    "print(\"========================================\")\n",
    "for info in information['action_required']:\n",
    "    print(\"Agent {} needs to submit an action.\".format(info))\n"
   ]
  },
  {
   "cell_type": "markdown",
   "metadata": {},
   "source": [
    "Let us now look at an episode playing out with random actions performed"
   ]
  },
  {
   "cell_type": "code",
   "execution_count": null,
   "metadata": {},
   "outputs": [],
   "source": [
    "print(\"\\nStart episode...\")\n",
    "\n",
    "# Reset the rendering system\n",
    "env_renderer.reset()\n",
    "\n",
    "score = 0\n",
    "# Run episode\n",
    "frame_step = 0\n",
    "frames = []"
   ]
  },
  {
   "cell_type": "code",
   "execution_count": null,
   "metadata": {},
   "outputs": [],
   "source": [
    "for step in range(500):\n",
    "    # Chose an action for each agent in the environment\n",
    "    for a in range(env.get_num_agents()):\n",
    "        action = controller.act(observations[a])\n",
    "        action_dict.update({a: action})\n",
    "\n",
    "    # Environment step which returns the observations for all agents, their corresponding\n",
    "    # reward and whether their are done\n",
    "\n",
    "    next_obs, all_rewards, done, _ = env.step(action_dict)\n",
    "\n",
    "    frame = env_renderer.render_env(show=True, show_observations=False, show_predictions=False, return_image=True)\n",
    "    frames.append(frame)\n",
    "    frame_step += 1\n",
    "    # Update replay buffer and train agent\n",
    "    for a in range(env.get_num_agents()):\n",
    "        controller.step((observations[a], action_dict[a], all_rewards[a], next_obs[a], done[a]))\n",
    "        score += all_rewards[a]\n",
    "\n",
    "    observations = next_obs.copy()\n",
    "    if done['__all__']:\n",
    "        break\n",
    "    print('Episode: Steps {}\\t Score = {}'.format(step, score))\n"
   ]
  },
  {
   "cell_type": "markdown",
   "metadata": {},
   "source": [
    "Our helper function `display_episode` allows us to get an animated episode. By putting `%%capture` at the begining of the cell we can surpress the cell output and create a clean output in the next cell."
   ]
  },
  {
   "cell_type": "code",
   "execution_count": null,
   "metadata": {},
   "outputs": [],
   "source": [
    "%%capture\n",
    "animation = display_episode(frames)"
   ]
  },
  {
   "cell_type": "code",
   "execution_count": null,
   "metadata": {},
   "outputs": [],
   "source": [
    "animation"
   ]
  }
 ],
 "metadata": {
  "colab": {
   "authorship_tag": "ABX9TyPTWnz5Rx3m1urg+rY7OeXP",
   "include_colab_link": true,
   "name": "01 Intro to environment.ipynb",
   "provenance": []
  },
  "kernelspec": {
   "display_name": "Python 3",
   "language": "python",
   "name": "python3"
  },
  "language_info": {
   "codemirror_mode": {
    "name": "ipython",
    "version": 3
   },
   "file_extension": ".py",
   "mimetype": "text/x-python",
   "name": "python",
   "nbconvert_exporter": "python",
   "pygments_lexer": "ipython3",
   "version": "3.8.5"
  }
 },
 "nbformat": 4,
 "nbformat_minor": 1
}