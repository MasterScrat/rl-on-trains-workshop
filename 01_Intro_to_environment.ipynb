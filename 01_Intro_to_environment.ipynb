{
  "nbformat": 4,
  "nbformat_minor": 0,
  "metadata": {
    "colab": {
      "name": "01 Intro to environment.ipynb",
      "provenance": [],
      "authorship_tag": "ABX9TyPTWnz5Rx3m1urg+rY7OeXP",
      "include_colab_link": true
    },
    "kernelspec": {
      "name": "python3",
      "display_name": "Python 3"
    }
  },
  "cells": [
    {
      "cell_type": "markdown",
      "metadata": {
        "id": "view-in-github",
        "colab_type": "text"
      },
      "source": [
        "<a href=\"https://colab.research.google.com/github/YanickSchraner/rl-on-trains-workshop/blob/main/01_Intro_to_environment.ipynb\" target=\"_parent\"><img src=\"https://colab.research.google.com/assets/colab-badge.svg\" alt=\"Open In Colab\"/></a>"
      ]
    },
    {
      "cell_type": "markdown",
      "metadata": {
        "id": "htEgy_0rsAJE"
      },
      "source": [
        "# Flatland\n",
        "Docs at: http://flatland-rl-docs.s3-website.eu-central-1.amazonaws.com/\n"
      ]
    },
    {
      "cell_type": "markdown",
      "metadata": {
        "id": "PNiahuRZvMBi"
      },
      "source": [
        "## File structure\n",
        "\n",
        "\n",
        "```\n",
        "├── Notebooks, Readme, packages ..\n",
        "├── agents: RL agents implementation\n",
        "│   ├── curiosity.py\n",
        "│   ├── dqn.py\n",
        "│   ├── qlearning.py\n",
        "│   └── random.py\n",
        "├── helpers: Helpers to train, test, inspect agents\n",
        "│   └── rl_helpers.py\n",
        "└── videos: Save videos of your best agents here!\n",
        "    └── video.mp4\n",
        "```\n",
        "\n"
      ]
    },
    {
      "cell_type": "code",
      "metadata": {
        "colab": {
          "base_uri": "https://localhost:8080/",
          "height": 307
        },
        "id": "_8g943chw4DC",
        "outputId": "d4df5d38-9f09-41ae-e0d7-74764e3790a3"
      },
      "source": [
        "#@title << Setup Google Colab by running this cell {display-mode: \"form\"}\n",
        "import sys\n",
        "if 'google.colab' in sys.modules:\n",
        "    # Clone GitHub repository\n",
        "    !git clone --single-branch --branch evaluation_setup https://github.com/YanickSchraner/rl-on-trains-workshop\n",
        "        \n",
        "    # Copy files required to run the code\n",
        "    !cp -r \"rl-workshop/agents\" \"rl-workshop/rl_helpers\" .\n",
        "    \n",
        "    # Install packages via pip\n",
        "    !pip install -r \"rl-workshop/requirements.txt\"\n",
        "    \n",
        "    # Restart Runtime\n",
        "    import os\n",
        "    os.kill(os.getpid(), 9)"
      ],
      "execution_count": 1,
      "outputs": [
        {
          "output_type": "error",
          "ename": "ModuleNotFoundError",
          "evalue": "ignored",
          "traceback": [
            "\u001b[0;31m---------------------------------------------------------------------------\u001b[0m",
            "\u001b[0;31mModuleNotFoundError\u001b[0m                       Traceback (most recent call last)",
            "\u001b[0;32m<ipython-input-1-61ce9a96ef5c>\u001b[0m in \u001b[0;36m<module>\u001b[0;34m()\u001b[0m\n\u001b[0;32m----> 1\u001b[0;31m \u001b[0;32mimport\u001b[0m \u001b[0mflatland\u001b[0m\u001b[0;34m\u001b[0m\u001b[0;34m\u001b[0m\u001b[0m\n\u001b[0m",
            "\u001b[0;31mModuleNotFoundError\u001b[0m: No module named 'flatland'",
            "",
            "\u001b[0;31m---------------------------------------------------------------------------\u001b[0;32m\nNOTE: If your import is failing due to a missing package, you can\nmanually install dependencies using either !pip or !apt.\n\nTo view examples of installing some common dependencies, click the\n\"Open Examples\" button below.\n\u001b[0;31m---------------------------------------------------------------------------\u001b[0m\n"
          ]
        }
      ]
    },
    {
      "cell_type": "code",
      "metadata": {
        "id": "NDRIB0ua04NV"
      },
      "source": [
        "from flatland.envs.rail_env import RailEnv\n",
        "from flatland.utils.rendertools import RenderTool\n",
        "from flatland.envs.rail_generators import sparse_rail_generator\n",
        "from flatland.envs.observations import TreeObsForRailEnv, GlobalObsForRailEnv\n",
        "from flatland.envs.schedule_generators import sparse_schedule_generator"
      ],
      "execution_count": null,
      "outputs": []
    },
    {
      "cell_type": "code",
      "metadata": {
        "id": "UlcHBfdR09JI"
      },
      "source": [
        "n_agents = 5\n",
        "x_dim = 25\n",
        "y_dim = 25\n",
        "n_cities = 4\n",
        "max_rails_between_cities = 2\n",
        "max_rails_in_city = 3\n",
        "seed = 42\n",
        "\n",
        "# Different agent types (trains) with different speeds.\n",
        "speed_ration_map = {\n",
        "    1.: 1.0,       # 100% of fast passenger train\n",
        "    1. / 2.: 0.0,  # 0% of fast freight train\n",
        "    1. / 3.: 0.0,  # 0% of slow commuter train\n",
        "    1. / 4.: 0.0   # 0% of slow freight train\n",
        "}"
      ],
      "execution_count": null,
      "outputs": []
    },
    {
      "cell_type": "code",
      "metadata": {
        "id": "f0WT9DW01NiH"
      },
      "source": [
        "# We are training an Agent using the Tree Observation with depth 2\n",
        "observation_tree_depth = 2\n",
        "\n",
        "tree_observation = TreeObsForRailEnv(max_depth=observation_tree_depth)\n",
        "\n",
        "env = RailEnv(\n",
        "    width=25,\n",
        "    height=25,\n",
        "    rail_generator=sparse_rail_generator(\n",
        "        max_num_cities=4,\n",
        "        seed=42,\n",
        "        grid_mode=False,\n",
        "        max_rails_between_cities=2,\n",
        "        max_rails_in_city=2\n",
        "    ),\n",
        "    schedule_generator=sparse_schedule_generator(),\n",
        "    number_of_agents=1,\n",
        "    obs_builder_object=GlobalObsForRailEnv(),\n",
        "    malfunction_generator_and_process_data=None,  # mal_gen.no_malfunction_generator(),\n",
        "    malfunction_generator=None,\n",
        "    remove_agents_at_target=True,\n",
        "    random_seed=1,\n",
        "    record_steps=False, close_following=True\n",
        ")"
      ],
      "execution_count": null,
      "outputs": []
    },
    {
      "cell_type": "code",
      "metadata": {
        "id": "53IBEWOg1Ph4"
      },
      "source": [
        "env = RailEnv(\n",
        "    width=x_dim,\n",
        "    height=y_dim,\n",
        "    rail_generator=sparse_rail_generator(\n",
        "        max_num_cities=n_cities,\n",
        "        seed=seed,\n",
        "        grid_mode=False,\n",
        "        max_rails_between_cities=max_rails_between_cities,\n",
        "        max_rails_in_city=max_rails_in_city\n",
        "    ),\n",
        "    schedule_generator=sparse_schedule_generator(),\n",
        "    number_of_agents=n_agents,\n",
        "    obs_builder_object=tree_observation\n",
        ")\n",
        "\n",
        "obs = env.reset()"
      ],
      "execution_count": null,
      "outputs": []
    },
    {
      "cell_type": "code",
      "metadata": {
        "id": "5A6tz6vr1Un1"
      },
      "source": [
        "env_renderer = RenderTool(env, gl=\"PGL\", screen_width=512, screen_height=512)"
      ],
      "execution_count": null,
      "outputs": []
    },
    {
      "cell_type": "code",
      "metadata": {
        "id": "_WK_1KkY1WPb"
      },
      "source": [
        "while True:\n",
        "    obs, rew, done, info = env.step({0: np.random.randint(0, 5)})\n",
        "    img = env_renderer.render_env(show=False, frames=False, show_observations=False, return_image=True)\n",
        "    img = Image.fromarray(img)\n",
        "    img.save(\"imgs/env.png\", \"PNG\")\n",
        "    break\n"
      ],
      "execution_count": null,
      "outputs": []
    }
  ]
}